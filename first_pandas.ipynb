{
 "metadata": {
  "language_info": {
   "codemirror_mode": {
    "name": "ipython",
    "version": 3
   },
   "file_extension": ".py",
   "mimetype": "text/x-python",
   "name": "python",
   "nbconvert_exporter": "python",
   "pygments_lexer": "ipython3",
   "version": "3.8.5"
  },
  "orig_nbformat": 2,
  "kernelspec": {
   "name": "python3",
   "display_name": "Python 3",
   "language": "python"
  }
 },
 "nbformat": 4,
 "nbformat_minor": 2,
 "cells": [
  {
   "source": [
    "# Análisis de letalidad del Covid-19 en Córdoba-Colombia\n",
    " __Fecha del dataset:__  10/05/2021\n",
    " __Origen del dataset:__ datos.gov.co \n",
    " "
   ],
   "cell_type": "markdown",
   "metadata": {}
  },
  {
   "source": [
    "\n",
    "import pandas as pd\n",
    "url = \"../bigdata/covidcasesco.csv\"\n",
    "\n",
    "df = pd.read_csv(url)\n",
    "\n",
    "# df.describe(include='all')\n",
    "\n",
    "deps = df[['Nombre departamento', 'Edad','Sexo','Estado']]\n",
    "\n",
    "# deps = deps[(deps['Nombre departamento'] == 'CORDOBA') & (deps['Estado'] == 'Leve') ]\n",
    "leves = deps[(deps['Nombre departamento'] == 'CORDOBA') & (deps['Estado'] == 'leve') ]\n",
    "\n",
    "# deps['Edad'].min()\n",
    "# deps.describe(include='all')\n",
    "# deps.head(10)\n",
    "\n",
    "# df['Recuperado'].value_counts()\n",
    "\n",
    "# estados = df['Estado'].value_counts()\n",
    "# estados.head(100)\n",
    "\n",
    "leves.value_counts()\n",
    "\n",
    "\n",
    "\n",
    "\n"
   ],
   "cell_type": "code",
   "metadata": {},
   "execution_count": 5,
   "outputs": [
    {
     "output_type": "stream",
     "name": "stderr",
     "text": [
      "/home/jorgeagb/.local/lib/python3.8/site-packages/IPython/core/interactiveshell.py:3169: DtypeWarning: Columns (14) have mixed types.Specify dtype option on import or set low_memory=False.\n  has_raised = await self.run_ast_nodes(code_ast.body, cell_name,\n"
     ]
    },
    {
     "output_type": "execute_result",
     "data": {
      "text/plain": [
       "Nombre departamento  Edad  Sexo  Estado\n",
       "CORDOBA              39.0  M     leve      5\n",
       "                     51.0  F     leve      4\n",
       "                     45.0  F     leve      4\n",
       "                     29.0  F     leve      4\n",
       "                     37.0  F     leve      4\n",
       "                                          ..\n",
       "                     43.0  M     leve      1\n",
       "                     44.0  F     leve      1\n",
       "                     45.0  M     leve      1\n",
       "                     46.0  M     leve      1\n",
       "                     87.0  M     leve      1\n",
       "Length: 90, dtype: int64"
      ]
     },
     "metadata": {},
     "execution_count": 5
    }
   ]
  },
  {
   "cell_type": "code",
   "execution_count": null,
   "metadata": {},
   "outputs": [],
   "source": []
  }
 ]
}