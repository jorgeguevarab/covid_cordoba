{
 "metadata": {
  "language_info": {
   "codemirror_mode": {
    "name": "ipython",
    "version": 3
   },
   "file_extension": ".py",
   "mimetype": "text/x-python",
   "name": "python",
   "nbconvert_exporter": "python",
   "pygments_lexer": "ipython3",
   "version": "3.8.5"
  },
  "orig_nbformat": 2,
  "kernelspec": {
   "name": "python3",
   "display_name": "Python 3",
   "language": "python"
  }
 },
 "nbformat": 4,
 "nbformat_minor": 2,
 "cells": [
  {
   "source": [
    "# Análisis del comportamiento del Covid-19 en Córdoba-Colombia\n",
    " __Fecha del dataset:__  10/05/2021\n",
    " __Origen del dataset:__ datos.gov.co \n",
    " "
   ],
   "cell_type": "markdown",
   "metadata": {}
  },
  {
   "source": [
    "\n",
    "import pandas as pd\n",
    "url = \"../bigdata/covidcasesco.csv\"\n",
    "\n",
    "df = pd.read_csv(url)\n",
    "\n",
    "# df.describe(include='all')\n",
    "\n",
    "deps = df[['Nombre departamento', 'Edad','Sexo','Estado','Recuperado']]\n",
    "\n",
    "# Cambiando el nombre del campo Recuperado a EstadoActual\n",
    "deps.rename(columns={\"Recuperado\":\"EstadoActual\"},inplace=True) \n",
    "\n",
    "deps2 = deps.replace('fallecido','Fallecido')\n",
    "\n",
    "# deps = deps[(deps['Nombre departamento'] == 'CORDOBA') & (deps['Estado'] == 'Leve') ]\n",
    "# leves = deps[(deps['Nombre departamento'] == 'CORDOBA') & (deps['Estado'] == 'Leve') ]\n",
    "\n",
    "# deps['Edad'].min()\n",
    "# deps.describe(include='all')\n",
    "# deps.head(10)\n",
    "\n",
    "# df['Recuperado'].value_counts()\n",
    "\n",
    "# estados = df['Estado'].value_counts()\n",
    "# estados.head(100)\n",
    "\n",
    "deps2['EstadoActual'].value_counts()\n",
    "\n",
    "\n",
    "\n",
    "\n"
   ],
   "cell_type": "code",
   "metadata": {},
   "execution_count": 24,
   "outputs": [
    {
     "output_type": "stream",
     "name": "stderr",
     "text": [
      "/home/jorgeagb/.local/lib/python3.8/site-packages/IPython/core/interactiveshell.py:3169: DtypeWarning: Columns (14) have mixed types.Specify dtype option on import or set low_memory=False.\n",
      "  has_raised = await self.run_ast_nodes(code_ast.body, cell_name,\n",
      "/home/jorgeagb/.local/lib/python3.8/site-packages/pandas/core/frame.py:4441: SettingWithCopyWarning: \n",
      "A value is trying to be set on a copy of a slice from a DataFrame\n",
      "\n",
      "See the caveats in the documentation: https://pandas.pydata.org/pandas-docs/stable/user_guide/indexing.html#returning-a-view-versus-a-copy\n",
      "  return super().rename(\n"
     ]
    },
    {
     "output_type": "execute_result",
     "data": {
      "text/plain": [
       "Recuperado    2111681\n",
       "Fallecido       59908\n",
       "Activo           1784\n",
       "Name: EstadoActual, dtype: int64"
      ]
     },
     "metadata": {},
     "execution_count": 24
    }
   ]
  },
  {
   "cell_type": "code",
   "execution_count": 17,
   "metadata": {},
   "outputs": [
    {
     "output_type": "stream",
     "name": "stderr",
     "text": [
      "/home/jorgeagb/.local/lib/python3.8/site-packages/pandas/core/frame.py:4441: SettingWithCopyWarning: \nA value is trying to be set on a copy of a slice from a DataFrame\n\nSee the caveats in the documentation: https://pandas.pydata.org/pandas-docs/stable/user_guide/indexing.html#returning-a-view-versus-a-copy\n  return super().rename(\n"
     ]
    }
   ],
   "source": [
    "# Optimizing dataset values at field Estado\n",
    "\n",
    "\n",
    "# deps['Recuperado'].value_counts()\n",
    "\n"
   ]
  },
  {
   "cell_type": "code",
   "execution_count": null,
   "metadata": {},
   "outputs": [],
   "source": []
  }
 ]
}