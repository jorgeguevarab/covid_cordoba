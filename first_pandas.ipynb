{
 "metadata": {
  "language_info": {
   "codemirror_mode": {
    "name": "ipython",
    "version": 3
   },
   "file_extension": ".py",
   "mimetype": "text/x-python",
   "name": "python",
   "nbconvert_exporter": "python",
   "pygments_lexer": "ipython3",
   "version": "3.8.5"
  },
  "orig_nbformat": 2,
  "kernelspec": {
   "name": "python3",
   "display_name": "Python 3",
   "language": "python"
  }
 },
 "nbformat": 4,
 "nbformat_minor": 2,
 "cells": [
  {
   "source": [
    "# Análisis de letalidad del Covid-19 en Córdoba-Colombia\n",
    " __Fecha del dataset:__  10/05/2021\n",
    " __Origen del dataset:__ datos.gov.co \n",
    " "
   ],
   "cell_type": "markdown",
   "metadata": {}
  },
  {
   "source": [
    "\n",
    "import pandas as pd\n",
    "url = 'datab/covidcasesco.csv'\n",
    "df = pd.read_csv(url)\n",
    "\n",
    "# df.describe(include='all')\n",
    "\n",
    "deps = df[['Nombre departamento', 'Edad','Sexo','Estado']]\n",
    "\n",
    "# deps = deps[(deps['Nombre departamento'] == 'CORDOBA') & (deps['Estado'] == 'Leve') ]\n",
    "leves = deps[(deps['Nombre departamento'] == 'CORDOBA') & (deps['Estado'] == 'leve') ]\n",
    "\n",
    "# deps['Edad'].min()\n",
    "# deps.describe(include='all')\n",
    "# deps.head(10)\n",
    "\n",
    "# df['Recuperado'].value_counts()\n",
    "\n",
    "# estados = df['Estado'].value_counts()\n",
    "# estados.head(100)\n",
    "\n",
    "leves.value_counts()\n",
    "\n",
    "\n",
    "\n",
    "\n"
   ],
   "cell_type": "code",
   "metadata": {},
   "execution_count": 1,
   "outputs": [
    {
     "output_type": "error",
     "ename": "SyntaxError",
     "evalue": "closing parenthesis ')' does not match opening parenthesis '[' (<ipython-input-1-ddc6cbb272b8>, line 10)",
     "traceback": [
      "\u001b[0;36m  File \u001b[0;32m\"<ipython-input-1-ddc6cbb272b8>\"\u001b[0;36m, line \u001b[0;32m10\u001b[0m\n\u001b[0;31m    leves = deps[(deps['Nombre departamento'] == 'CORDOBA') & (deps['Estado']) == 'leve') ]\u001b[0m\n\u001b[0m                                                                                        ^\u001b[0m\n\u001b[0;31mSyntaxError\u001b[0m\u001b[0;31m:\u001b[0m closing parenthesis ')' does not match opening parenthesis '['\n"
     ]
    }
   ]
  },
  {
   "cell_type": "code",
   "execution_count": null,
   "metadata": {},
   "outputs": [],
   "source": []
  }
 ]
}